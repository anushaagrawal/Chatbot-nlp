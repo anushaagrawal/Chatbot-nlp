{
 "cells": [
  {
   "cell_type": "markdown",
   "metadata": {},
   "source": [
    "# Build your own Chatbot:"
   ]
  },
  {
   "cell_type": "markdown",
   "metadata": {},
   "source": [
    "##### Making use of NLTK in Python to create a virtual tour guide for Jaipur!"
   ]
  },
  {
   "cell_type": "markdown",
   "metadata": {},
   "source": [
    "## Step 1. Import required libraries:"
   ]
  },
  {
   "cell_type": "code",
   "execution_count": 1,
   "metadata": {},
   "outputs": [],
   "source": [
    "import io\n",
    "import random\n",
    "import string\n",
    "import warnings\n",
    "import numpy as np\n",
    "from sklearn.feature_extraction.text import TfidfVectorizer\n",
    "from sklearn.metrics.pairwise import cosine_similarity\n",
    "import warnings\n",
    "warnings.filterwarnings('ignore')\n",
    "import os"
   ]
  },
  {
   "cell_type": "code",
   "execution_count": 2,
   "metadata": {},
   "outputs": [],
   "source": [
    "import nltk\n",
    "from nltk.stem import WordNetLemmatizer"
   ]
  },
  {
   "cell_type": "markdown",
   "metadata": {},
   "source": [
    "## Step 2. Data Reading:"
   ]
  },
  {
   "cell_type": "code",
   "execution_count": 3,
   "metadata": {},
   "outputs": [
    {
     "name": "stderr",
     "output_type": "stream",
     "text": [
      "[nltk_data] Downloading package wordnet to C:\\Users\\ANUSHA\n",
      "[nltk_data]     AGRAWAL\\AppData\\Roaming\\nltk_data...\n",
      "[nltk_data]   Package wordnet is already up-to-date!\n"
     ]
    }
   ],
   "source": [
    "#reading the text file from which response will be fetched\n",
    "\n",
    "with open('jaipur.txt','r', encoding='utf8', errors ='ignore') as file: \n",
    "    raw = file.read().lower() #converting the contents to the file into lowercase\n",
    "    \n",
    "\n",
    "nltk.download('wordnet') # first-time use only\n",
    "\n",
    "sent_tokens = nltk.sent_tokenize(raw) # converts to list of sentences \n",
    "\n",
    "word_tokens = nltk.word_tokenize(raw) # converts to list of words"
   ]
  },
  {
   "cell_type": "markdown",
   "metadata": {},
   "source": [
    "### Print a simple example to see sentence and word tokens: "
   ]
  },
  {
   "cell_type": "code",
   "execution_count": 4,
   "metadata": {},
   "outputs": [
    {
     "data": {
      "text/plain": [
       "['jaipur is in the state of rajasthan, towards the north-western part of india.',\n",
       " 'rajasthan shares proximity withgujarat, madhya pradesh, uttar pradesh, punjab, and haryana.',\n",
       " 'the best time to visit jaipur is between the months of october to march, with occasional showers bathing the city’s streets accompanied with snug weather.',\n",
       " 'the fastest way to reach jaipur is via the indira gandhi international airport in delhi with an airtime of an hour.',\n",
       " 'once you reach the jaipur airport at sanganer, you could hire a taxi or cab to your desired destination.']"
      ]
     },
     "execution_count": 4,
     "metadata": {},
     "output_type": "execute_result"
    }
   ],
   "source": [
    "sent_tokens[:5]"
   ]
  },
  {
   "cell_type": "code",
   "execution_count": 5,
   "metadata": {},
   "outputs": [
    {
     "data": {
      "text/plain": [
       "['jaipur', 'is', 'in', 'the', 'state']"
      ]
     },
     "execution_count": 5,
     "metadata": {},
     "output_type": "execute_result"
    }
   ],
   "source": [
    "word_tokens[:5]"
   ]
  },
  {
   "cell_type": "markdown",
   "metadata": {},
   "source": [
    "## Step 3: Preprocessing and Handling Raw Text:"
   ]
  },
  {
   "cell_type": "code",
   "execution_count": 6,
   "metadata": {},
   "outputs": [],
   "source": [
    "lemmer = WordNetLemmatizer()\n",
    "\n",
    "#user defined function for lemmatization\n",
    "def LemTokens(tokens):\n",
    "    return [lemmer.lemmatize(token) for token in tokens]\n",
    "\n",
    "#removing punctuation marks from the text file to clean it\n",
    "remove_punct_dict = dict((ord(punct), None) for punct in string.punctuation)\n",
    "\n",
    "#user defined fucntion \n",
    "def LemNormalize(text):\n",
    "    return LemTokens(nltk.word_tokenize(text.lower().translate(remove_punct_dict)))"
   ]
  },
  {
   "cell_type": "markdown",
   "metadata": {},
   "source": [
    "## Step 4: Programming a Greet Response: "
   ]
  },
  {
   "cell_type": "code",
   "execution_count": 7,
   "metadata": {},
   "outputs": [],
   "source": [
    "GREETING_INPUTS = [\"hello\", \"hi\", \"greetings\", \"sup\", \"what's up\",\"hey\",\"hii\"] #making a list of user greeting inputs\n",
    "GREETING_RESPONSES = [\"hi\", \"hey\", \"*nods*\", \"hi there\", \"hello\", \"I am glad! You are talking to me\"] #making a list of the robo outputs\n",
    "\n",
    "#user defined function to greet the user\n",
    "def greeting(sentence):\n",
    "    for word in sentence.split(): \n",
    "        if word.lower() in GREETING_INPUTS: \n",
    "            return random.choice(GREETING_RESPONSES)"
   ]
  },
  {
   "cell_type": "markdown",
   "metadata": {},
   "source": [
    "## Step 5: Writing the Response Function:"
   ]
  },
  {
   "cell_type": "code",
   "execution_count": 8,
   "metadata": {},
   "outputs": [],
   "source": [
    "#user defined function to fetch bot response\n",
    "\n",
    "def response(user_response):\n",
    "    robo_response='' #empty string because the response is not known initially\n",
    "    sent_tokens.append(user_response) #appending user response to sentence tokens\n",
    "    \n",
    "    TfidfVec = TfidfVectorizer(tokenizer=LemNormalize, stop_words='english') #making the tfidf model to assign weights\n",
    "    tfidf = TfidfVec.fit_transform(sent_tokens) #fitting the model on sent tokens\n",
    "    \n",
    "    vals = cosine_similarity(tfidf[-1], tfidf) #finding similarity between user response and all other sentences\n",
    "    idx=vals.argsort()[0][-2] #sorting the array in accordance with the index number\n",
    "    \n",
    "    flat = vals.flatten() #converting 2-D array into 1-D array\n",
    "    flat.sort() #sorting the array in accordance with values\n",
    "    \n",
    "    req_tfidf = flat[-2] #reaching out for the second last sentence\n",
    "    \n",
    "    if(req_tfidf==0):\n",
    "        robo_response=robo_response+\"I am sorry! I don't understand you\" #if the response is not there in the text file, req_tfidf will be 0\n",
    "        return robo_response\n",
    "    else:\n",
    "        robo_response = robo_response+sent_tokens[idx] #returing the relevant response\n",
    "        return robo_response"
   ]
  },
  {
   "cell_type": "code",
   "execution_count": 9,
   "metadata": {},
   "outputs": [
    {
     "name": "stdout",
     "output_type": "stream",
     "text": [
      "ROBO: My name is Robo. I will answer your queries about Chatbots. If you want to exit, type Bye!\n",
      "hey\n",
      "ROBO: hi there\n",
      "\n",
      "bye\n",
      "ROBO: Bye! take care..\n",
      "\n"
     ]
    }
   ],
   "source": [
    "#CHATBOT Coding\n",
    "flag=True\n",
    "print(\"ROBO: My name is Robo. I will answer your queries about Chatbots. If you want to exit, type Bye!\") #welcome statement by the chatbot\n",
    "\n",
    "while(flag==True): #chatbot will be open to questions for as long as the flag is true\n",
    "    user_response = input() #taking input of question\n",
    "    user_response=user_response.lower() #converting the question to lowercase\n",
    "    \n",
    "    if(user_response!='bye'): #if the user input is not equals to bye\n",
    "        if(user_response=='thanks' or user_response=='thank you' ):\n",
    "            flag=False\n",
    "            print(\"ROBO: You are welcome..\") #bot says welcome if the user writes thanks\n",
    "        else:\n",
    "            greet = greeting(user_response) \n",
    "            if(greet!=None):\n",
    "                print(\"ROBO: \"+greet) #bot will greet the user by calling greeting function\n",
    "            else:\n",
    "                reply = response(user_response)  #relevant response will be fetched by calling the response function\n",
    "                print(\"ROBO: \",end=\"\")\n",
    "                print(reply)\n",
    "                sent_tokens.remove(user_response) #removing the user input from sent tokens\n",
    "    else:\n",
    "        flag=False\n",
    "        print(\"ROBO: Bye! take care..\")  #robo says bye\n",
    "    print()"
   ]
  },
  {
   "cell_type": "markdown",
   "metadata": {},
   "source": [
    "# Code with Integration of Text to Speech Converter"
   ]
  },
  {
   "cell_type": "code",
   "execution_count": 3,
   "metadata": {},
   "outputs": [
    {
     "name": "stdout",
     "output_type": "stream",
     "text": [
      "Collecting speech_recognition\n"
     ]
    },
    {
     "name": "stderr",
     "output_type": "stream",
     "text": [
      "  ERROR: Could not find a version that satisfies the requirement speech_recognition (from versions: none)\n",
      "ERROR: No matching distribution found for speech_recognition\n"
     ]
    }
   ],
   "source": [
    "!pip install speech_recognition"
   ]
  },
  {
   "cell_type": "code",
   "execution_count": 9,
   "metadata": {},
   "outputs": [
    {
     "ename": "ModuleNotFoundError",
     "evalue": "No module named 'speech_recognition'",
     "output_type": "error",
     "traceback": [
      "\u001b[1;31m---------------------------------------------------------------------------\u001b[0m",
      "\u001b[1;31mModuleNotFoundError\u001b[0m                       Traceback (most recent call last)",
      "\u001b[1;32m<ipython-input-9-1e86b827a415>\u001b[0m in \u001b[0;36m<module>\u001b[1;34m\u001b[0m\n\u001b[1;32m----> 1\u001b[1;33m \u001b[1;32mimport\u001b[0m \u001b[0mspeech_recognition\u001b[0m \u001b[1;32mas\u001b[0m \u001b[0msr\u001b[0m\u001b[1;33m\u001b[0m\u001b[1;33m\u001b[0m\u001b[0m\n\u001b[0m\u001b[0;32m      2\u001b[0m \u001b[1;32mfrom\u001b[0m \u001b[0mgtts\u001b[0m \u001b[1;32mimport\u001b[0m \u001b[0mgTTS\u001b[0m\u001b[1;33m\u001b[0m\u001b[1;33m\u001b[0m\u001b[0m\n",
      "\u001b[1;31mModuleNotFoundError\u001b[0m: No module named 'speech_recognition'"
     ]
    }
   ],
   "source": [
    "import speech_recognition as sr\n",
    "from gtts import gTTS"
   ]
  },
  {
   "cell_type": "code",
   "execution_count": 12,
   "metadata": {},
   "outputs": [
    {
     "name": "stdout",
     "output_type": "stream",
     "text": [
      "ROBO: My name is Robo. I will answer your queries about Chatbots. If you want to exit, type Bye!\n"
     ]
    },
    {
     "ename": "NameError",
     "evalue": "name 'sr' is not defined",
     "output_type": "error",
     "traceback": [
      "\u001b[1;31m---------------------------------------------------------------------------\u001b[0m",
      "\u001b[1;31mNameError\u001b[0m                                 Traceback (most recent call last)",
      "\u001b[1;32m<ipython-input-12-95775ae2b6b3>\u001b[0m in \u001b[0;36m<module>\u001b[1;34m\u001b[0m\n\u001b[0;32m      4\u001b[0m \u001b[1;33m\u001b[0m\u001b[0m\n\u001b[0;32m      5\u001b[0m \u001b[1;32mwhile\u001b[0m\u001b[1;33m(\u001b[0m\u001b[0mflag\u001b[0m\u001b[1;33m==\u001b[0m\u001b[1;32mTrue\u001b[0m\u001b[1;33m)\u001b[0m\u001b[1;33m:\u001b[0m\u001b[1;33m\u001b[0m\u001b[1;33m\u001b[0m\u001b[0m\n\u001b[1;32m----> 6\u001b[1;33m     \u001b[0mr\u001b[0m \u001b[1;33m=\u001b[0m \u001b[0msr\u001b[0m\u001b[1;33m.\u001b[0m\u001b[0mRecognizer\u001b[0m\u001b[1;33m(\u001b[0m\u001b[1;33m)\u001b[0m\u001b[1;33m\u001b[0m\u001b[1;33m\u001b[0m\u001b[0m\n\u001b[0m\u001b[0;32m      7\u001b[0m     \u001b[1;32mtry\u001b[0m\u001b[1;33m:\u001b[0m\u001b[1;33m\u001b[0m\u001b[1;33m\u001b[0m\u001b[0m\n\u001b[0;32m      8\u001b[0m         \u001b[1;32mwith\u001b[0m \u001b[0msr\u001b[0m\u001b[1;33m.\u001b[0m\u001b[0mMicrophone\u001b[0m\u001b[1;33m(\u001b[0m\u001b[1;33m)\u001b[0m \u001b[1;32mas\u001b[0m \u001b[0msource\u001b[0m\u001b[1;33m:\u001b[0m\u001b[1;33m\u001b[0m\u001b[1;33m\u001b[0m\u001b[0m\n",
      "\u001b[1;31mNameError\u001b[0m: name 'sr' is not defined"
     ]
    }
   ],
   "source": [
    "###WITH SPEECH TO TEXT AND  TEXT TO SPEECH\n",
    "flag=True\n",
    "print(\"ROBO: My name is Robo. I will answer your queries about Chatbots. If you want to exit, type Bye!\")\n",
    "\n",
    "while(flag==True):\n",
    "    r = sr.Recognizer()\n",
    "    try:\n",
    "        with sr.Microphone() as source:\n",
    "            print(\"Say Something!\")\n",
    "            audio = r.listen(source)\n",
    "        user_response = r.recognize_google(audio, language = 'en-US') #Understanding the audio in order to print it (the audio is supposed to be in english only)\n",
    "        \n",
    "        print(user_response) #priting the input given by user\n",
    "        \n",
    "        user_response=user_response.lower() #connverting user input to lower case\n",
    "        \n",
    "        if(user_response!='bye'): #if the user input is not equals to bye\n",
    "            \n",
    "            if(user_response=='thanks' or user_response=='thank you' ): \n",
    "                flag=False\n",
    "                thank = \" You are welcome..\" #assigning value to variable thank\n",
    "                tts = gTTS(thank) #converting the value of variable thank into audio\n",
    "                tts.save(\"thank.mp3\") #saving the audio file\n",
    "                os.system(\"thank.mp3\") #output in the form of speech\n",
    "                print(\"ROBO:\"+thank) #output in the form of text\n",
    "            \n",
    "            else:\n",
    "                greet = greeting(user_response) #calling greeting function\n",
    "                if(greet!=None):\n",
    "                    tts = gTTS(greet) #converting the value of variable greet into audio\n",
    "                    tts.save(\"greet.mp3\") #saving the audio file\n",
    "                    os.system(\"greet.mp3\") #output in the form of speech\n",
    "                    print(\"ROBO:\"+greet) #output in the form of text\n",
    "                else:\n",
    "                    reply = response(user_response)\n",
    "                    tts = gTTS(reply) #converting the value of variable reply into audio\n",
    "                    tts.save(\"reply.mp3\") #saving the audio file\n",
    "                    os.system(\"reply.mp3\") #output in the form of speech\n",
    "                    print(\"ROBO: \"+reply) #output in the form of text\n",
    "                    sent_tokens.remove(user_response) #removing the user input from sent tokens\n",
    "        else:\n",
    "            flag=False\n",
    "            bye = \" Bye! take care..\"  #assigning value to variable bye\n",
    "            tts = gTTS(bye) #converting the value of variable bye into audio\n",
    "            tts.save(\"bye.mp3\") #saving the audio file\n",
    "            os.system(\"bye.mp3\") #output in the form of text\n",
    "            print(\"ROBO:\"+bye)  #output in the form of text\n",
    "        print()\n",
    "    except:\n",
    "        pass"
   ]
  },
  {
   "cell_type": "code",
   "execution_count": null,
   "metadata": {},
   "outputs": [],
   "source": []
  }
 ],
 "metadata": {
  "kernelspec": {
   "display_name": "Python 3 (ipykernel)",
   "language": "python",
   "name": "python3"
  },
  "language_info": {
   "codemirror_mode": {
    "name": "ipython",
    "version": 3
   },
   "file_extension": ".py",
   "mimetype": "text/x-python",
   "name": "python",
   "nbconvert_exporter": "python",
   "pygments_lexer": "ipython3",
   "version": "3.9.13"
  }
 },
 "nbformat": 4,
 "nbformat_minor": 4
}
