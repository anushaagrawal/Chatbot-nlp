{
 "cells": [
  {
   "cell_type": "markdown",
   "metadata": {},
   "source": [
    "#### The route() function of the Flask class is a decorator, which tells the application which URL should call the associated function.\n",
    "\n",
    "#### app.route(rule, options)\n",
    "\n",
    "#### --> The rule parameter represents URL binding with the function.\n",
    "#### --> The options is a list of parameters to be forwarded to the underlying Rule object."
   ]
  },
  {
   "cell_type": "markdown",
   "metadata": {},
   "source": [
    "### Hello world Program"
   ]
  },
  {
   "cell_type": "code",
   "execution_count": null,
   "metadata": {},
   "outputs": [],
   "source": [
    "from flask import Flask #importing required modules\n",
    "app = Flask(__name__) #instantiating a new web application called \"app\" with '__name__' (or the main function) representing the current file\n",
    "\n",
    "@app.route(\"/\") #Default route (represents the homepage of our website)\n",
    "def hello():  #Function associated to default route\n",
    "    return 'Hello there!' #Output- Hello there!\n",
    "\n",
    "@app.route(\"/about\") \n",
    "def about():\n",
    "    return 'Read About' \n",
    "\n",
    "#running our app\n",
    "if __name__ == \"__main__\": #conditional statement for running our app\n",
    "    app.run()"
   ]
  },
  {
   "cell_type": "code",
   "execution_count": null,
   "metadata": {},
   "outputs": [],
   "source": [
    "print(__name__) #run this cell, it will give \"__main__\" as an output meaning that our \"app\" is running as a main function and not an imported module."
   ]
  },
  {
   "cell_type": "markdown",
   "metadata": {},
   "source": [
    "### Passing < variables > and it's rules:"
   ]
  },
  {
   "cell_type": "code",
   "execution_count": null,
   "metadata": {},
   "outputs": [],
   "source": [
    "from flask import Flask\n",
    "\n",
    "app = Flask(__name__)\n",
    "\n",
    "@app.route(\"/about/<name>\")\n",
    "def about_name(name): #passing the variable <name> as an argument to the function associated with it\n",
    "    return name\n",
    "\n",
    "#URL- http://127.0.0.1:5000/about/IEEE\n",
    "#Output- IEEE\n",
    "\n",
    "if __name__ == \"__main__\":\n",
    "    app.run()"
   ]
  },
  {
   "cell_type": "code",
   "execution_count": null,
   "metadata": {},
   "outputs": [],
   "source": [
    "##Returns some text along with the <variable>\n",
    "from flask import Flask\n",
    "\n",
    "app = Flask(__name__)\n",
    "@app.route(\"/about/<names>\")\n",
    "def about_names(names):\n",
    "    return 'Read About %s!' % names\n",
    "\n",
    "#URL- http://127.0.0.1:5000/name/Chatbots\n",
    "#Output- Read about my blog on Chatbots\n",
    "\n",
    "if __name__ == \"__main__\":\n",
    "    app.run()"
   ]
  },
  {
   "cell_type": "markdown",
   "metadata": {},
   "source": [
    "### Constructing rules using converters(int, float, path)"
   ]
  },
  {
   "cell_type": "markdown",
   "metadata": {},
   "source": [
    "#### 1. Int (accepts integers)"
   ]
  },
  {
   "cell_type": "code",
   "execution_count": null,
   "metadata": {},
   "outputs": [],
   "source": [
    "from flask import Flask\n",
    "app= Flask(__name__)\n",
    "\n",
    "@app.route(\"/\")\n",
    "def hello():\n",
    "    return 'Hello there!'\n",
    "\n",
    "@app.route('/blog/<int:blogNO>')\n",
    "def blog(blogNO):\n",
    "    return 'Welcome to Blog number %d' % blogNO\n",
    "#URL = http://127.0.0.1:5000/blog/190\n",
    "#Output = Welcome to Blog number 190\n",
    "\n",
    "if __name__ == '__main__':\n",
    "    app.run()"
   ]
  },
  {
   "cell_type": "markdown",
   "metadata": {},
   "source": [
    "#### 2. Float(For floating point value)"
   ]
  },
  {
   "cell_type": "code",
   "execution_count": null,
   "metadata": {},
   "outputs": [],
   "source": [
    "from flask import Flask\n",
    "app= Flask(__name__)\n",
    "\n",
    "@app.route(\"/\")\n",
    "def hello():\n",
    "    return 'Hello there!'\n",
    "\n",
    "@app.route('/average/<float:average>')\n",
    "def show_average(average):\n",
    "    return 'The average is %f' %average\n",
    "#URL= http://127.0.0.1:5000/average/9.665\n",
    "#Output = The average is 9.665000\n",
    "\n",
    "if __name__ == '__main__':\n",
    "    app.run()"
   ]
  },
  {
   "cell_type": "markdown",
   "metadata": {},
   "source": [
    "#### 3. Path(accepts slashes used as directory separator character)"
   ]
  },
  {
   "cell_type": "code",
   "execution_count": null,
   "metadata": {},
   "outputs": [],
   "source": [
    "from flask import Flask\n",
    "app= Flask(__name__)\n",
    "\n",
    "@app.route(\"/\")\n",
    "def hello():\n",
    "    return 'Hello there!'\n",
    "\n",
    "@app.route('/flask')\n",
    "def hello_flask():\n",
    "    return 'Hello Flask'\n",
    "\n",
    "@app.route('/python/')\n",
    "def hello_python():\n",
    "    return 'Hello Python'\n",
    "#Both the rules appear similar but in the second rule, trailing slash (/)\n",
    "#is used. As a result, it becomes a canonical URL. Hence, using /python \n",
    "#or /python/ returns the same output. However, in case of the first rule,\n",
    "#/flask/ URL results in 404 Not Found page.\n",
    "\n",
    "if __name__ == '__main__':\n",
    "    app.run()"
   ]
  },
  {
   "cell_type": "markdown",
   "metadata": {},
   "source": []
  },
  {
   "cell_type": "code",
   "execution_count": null,
   "metadata": {},
   "outputs": [],
   "source": []
  }
 ],
 "metadata": {
  "kernelspec": {
   "display_name": "Python 3",
   "language": "python",
   "name": "python3"
  },
  "language_info": {
   "codemirror_mode": {
    "name": "ipython",
    "version": 3
   },
   "file_extension": ".py",
   "mimetype": "text/x-python",
   "name": "python",
   "nbconvert_exporter": "python",
   "pygments_lexer": "ipython3",
   "version": "3.7.3"
  }
 },
 "nbformat": 4,
 "nbformat_minor": 2
}
