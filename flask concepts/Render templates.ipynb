{
 "cells": [
  {
   "cell_type": "code",
   "execution_count": null,
   "metadata": {},
   "outputs": [],
   "source": [
    "from flask import Flask, render_template # importing required modules\n",
    "app=Flask(__name__) #instantiating a new web application called \"app\" with '__name__' (or the main function) representing the current file\n",
    "\n",
    "@app.route(\"/index\")\n",
    "def index():  #Function associated to \"/index\" route\n",
    "    return render_template(\"index.html\") #rendering index.html file, from our templates folder, as an output\n",
    "\n",
    "#running our app\n",
    "if __name__==\"__main__\": #conditional statement for running our app\n",
    "    app.run()"
   ]
  },
  {
   "cell_type": "code",
   "execution_count": null,
   "metadata": {},
   "outputs": [],
   "source": []
  }
 ],
 "metadata": {
  "kernelspec": {
   "display_name": "Python 3",
   "language": "python",
   "name": "python3"
  },
  "language_info": {
   "codemirror_mode": {
    "name": "ipython",
    "version": 3
   },
   "file_extension": ".py",
   "mimetype": "text/x-python",
   "name": "python",
   "nbconvert_exporter": "python",
   "pygments_lexer": "ipython3",
   "version": "3.7.3"
  }
 },
 "nbformat": 4,
 "nbformat_minor": 2
}
