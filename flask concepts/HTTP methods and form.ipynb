{
 "cells": [
  {
   "cell_type": "code",
   "execution_count": 5,
   "metadata": {},
   "outputs": [
    {
     "name": "stdout",
     "output_type": "stream",
     "text": [
      " * Serving Flask app \"__main__\" (lazy loading)\n",
      " * Environment: production\n",
      "   WARNING: This is a development server. Do not use it in a production deployment.\n",
      "   Use a production WSGI server instead.\n",
      " * Debug mode: off\n"
     ]
    },
    {
     "name": "stderr",
     "output_type": "stream",
     "text": [
      " * Running on http://127.0.0.1:5000/ (Press CTRL+C to quit)\n",
      "127.0.0.1 - - [29/Nov/2020 13:12:57] \"\u001b[37mGET / HTTP/1.1\u001b[0m\" 200 -\n",
      "127.0.0.1 - - [29/Nov/2020 13:13:01] \"\u001b[37mGET /login HTTP/1.1\u001b[0m\" 200 -\n",
      "127.0.0.1 - - [29/Nov/2020 13:13:08] \"\u001b[37mPOST /login HTTP/1.1\u001b[0m\" 200 -\n"
     ]
    }
   ],
   "source": [
    "from flask import Flask, render_template,request # importing required modules\n",
    "app=Flask(__name__) #creating an instance of the class\n",
    "\n",
    "@app.route(\"/\") #Default route\n",
    "def welcome():  #Function associated to default route\n",
    "    return \"Welcome, to fill in your login details go to login page\" #Output- Welcome, to fill in your login details go to login page\n",
    "\n",
    "@app.route(\"/login\", methods=[\"POST\",\"GET\"]) #creating a route for the path \"/login\" and specifying list of HTTP methods to be used in the methods arguement\n",
    "def login():    #Function associated to \"/login\" route\n",
    "    if request.method==\"POST\": #conditional statement for request method POST\n",
    "        user= request.form[\"name\"] #taking user input for the name field and storing it in the variable \"user\"\n",
    "        num= request.form[\"pnum\"]  #taking user input for the phone number field and storing it in the variable \"num\"\n",
    "        return render_template(\"submission.html\",name=user,pnumber=num) #rendering \"submission.html\" template. Also, passing in values of input fileds stord in \"user\" and \"num\" to the html template\n",
    "    else:\n",
    "        user= request.args.get(\"name\") #\n",
    "        num= request.args.get(\"pnum\")\n",
    "        return render_template(\"login.html\")\n",
    "\n",
    "#running our app\n",
    "if __name__==\"__main__\":\n",
    "    app.run()"
   ]
  },
  {
   "cell_type": "code",
   "execution_count": null,
   "metadata": {},
   "outputs": [],
   "source": []
  }
 ],
 "metadata": {
  "kernelspec": {
   "display_name": "Python 3",
   "language": "python",
   "name": "python3"
  },
  "language_info": {
   "codemirror_mode": {
    "name": "ipython",
    "version": 3
   },
   "file_extension": ".py",
   "mimetype": "text/x-python",
   "name": "python",
   "nbconvert_exporter": "python",
   "pygments_lexer": "ipython3",
   "version": "3.7.4"
  }
 },
 "nbformat": 4,
 "nbformat_minor": 2
}
